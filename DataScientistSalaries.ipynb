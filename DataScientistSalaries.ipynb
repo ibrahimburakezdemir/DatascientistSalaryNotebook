{
 "cells": [
  {
   "cell_type": "code",
   "execution_count": 1,
   "id": "09ba2dfa",
   "metadata": {},
   "outputs": [],
   "source": [
    "import findspark\n",
    "findspark.init()"
   ]
  },
  {
   "cell_type": "code",
   "execution_count": 2,
   "id": "80e509af",
   "metadata": {},
   "outputs": [],
   "source": [
    "from pyspark.sql import SparkSession\n",
    "from pyspark.conf import SparkConf\n",
    "from pyspark.sql.functions import *\n",
    "import pyspark.sql.functions as F\n",
    "from pyspark.sql.types import IntegerType"
   ]
  },
  {
   "cell_type": "code",
   "execution_count": 5,
   "id": "6c71896b",
   "metadata": {},
   "outputs": [],
   "source": [
    "spark = SparkSession.builder \\\n",
    ".appName(\"datascientistsalaries_dataset\") \\\n",
    ".getOrCreate()"
   ]
  },
  {
   "cell_type": "code",
   "execution_count": 7,
   "id": "3b0e32ea",
   "metadata": {},
   "outputs": [],
   "source": [
    "df = spark.read \\\n",
    ".option(\"header\",True) \\\n",
    ".option(\"inferSchema\",\"True\") \\\n",
    ".csv(\"/Users/burak/Desktop/Software Projects/Data Engineering/Data Scientist Salaries/ds_salaries.csv\")"
   ]
  },
  {
   "cell_type": "code",
   "execution_count": 8,
   "id": "098d8e50",
   "metadata": {},
   "outputs": [
    {
     "name": "stdout",
     "output_type": "stream",
     "text": [
      "root\n",
      " |-- _c0: integer (nullable = true)\n",
      " |-- work_year: integer (nullable = true)\n",
      " |-- experience_level: string (nullable = true)\n",
      " |-- employment_type: string (nullable = true)\n",
      " |-- job_title: string (nullable = true)\n",
      " |-- salary: integer (nullable = true)\n",
      " |-- salary_currency: string (nullable = true)\n",
      " |-- salary_in_usd: integer (nullable = true)\n",
      " |-- employee_residence: string (nullable = true)\n",
      " |-- remote_ratio: integer (nullable = true)\n",
      " |-- company_location: string (nullable = true)\n",
      " |-- company_size: string (nullable = true)\n",
      "\n"
     ]
    }
   ],
   "source": [
    "df.printSchema()"
   ]
  },
  {
   "cell_type": "code",
   "execution_count": 22,
   "id": "7c532bac",
   "metadata": {},
   "outputs": [
    {
     "name": "stdout",
     "output_type": "stream",
     "text": [
      "+---------+----------------+--------------------+-------------+----------------+------------+\n",
      "|work_year|experience_level|           job_title|salary_in_usd|company_location|company_size|\n",
      "+---------+----------------+--------------------+-------------+----------------+------------+\n",
      "|     2021|              EX|Principal Data En...|       600000|              US|           L|\n",
      "|     2021|              MI|Financial Data An...|       450000|              US|           L|\n",
      "|     2020|              MI|  Research Scientist|       450000|              US|           M|\n",
      "|     2021|              MI|Applied Machine L...|       423000|              US|           L|\n",
      "|     2021|              EX|Principal Data Sc...|       416000|              US|           S|\n",
      "|     2020|              SE|      Data Scientist|       412000|              US|           L|\n",
      "|     2022|              SE| Data Analytics Lead|       405000|              US|           L|\n",
      "|     2022|              SE|Applied Data Scie...|       380000|              US|           L|\n",
      "|     2020|              EX|Director of Data ...|       325000|              US|           L|\n",
      "|     2022|              EX|       Data Engineer|       324000|              US|           M|\n",
      "+---------+----------------+--------------------+-------------+----------------+------------+\n",
      "only showing top 10 rows\n",
      "\n"
     ]
    }
   ],
   "source": [
    "#Sort by salary_in_usd in descending order\n",
    "df.orderBy(F.desc(\"salary_in_usd\")).select(\"work_year\",\\\n",
    "\"experience_level\",\"job_title\",\"salary_in_usd\",\\\n",
    "\"company_location\",\"company_size\").show(10)"
   ]
  },
  {
   "cell_type": "code",
   "execution_count": 19,
   "id": "2a41fd6f",
   "metadata": {},
   "outputs": [
    {
     "name": "stdout",
     "output_type": "stream",
     "text": [
      "+-------------------------+\n",
      "|count(DISTINCT job_title)|\n",
      "+-------------------------+\n",
      "|                       50|\n",
      "+-------------------------+\n",
      "\n"
     ]
    }
   ],
   "source": [
    "#count of job_titles\n",
    "df.select(F.countDistinct(\"job_title\")).alias(\"Count Of Job Titles\").show()"
   ]
  },
  {
   "cell_type": "code",
   "execution_count": 36,
   "id": "b5d36649",
   "metadata": {},
   "outputs": [
    {
     "name": "stdout",
     "output_type": "stream",
     "text": [
      "+--------------------+-----+\n",
      "|           Job Title|Count|\n",
      "+--------------------+-----+\n",
      "|      Data Scientist|  143|\n",
      "|       Data Engineer|  132|\n",
      "|        Data Analyst|   97|\n",
      "|Machine Learning ...|   41|\n",
      "|  Research Scientist|   16|\n",
      "|Data Science Manager|   12|\n",
      "|      Data Architect|   11|\n",
      "|Machine Learning ...|    8|\n",
      "|   Big Data Engineer|    8|\n",
      "|Director of Data ...|    7|\n",
      "+--------------------+-----+\n",
      "only showing top 10 rows\n",
      "\n"
     ]
    }
   ],
   "source": [
    "#number of job titles with their types\n",
    "df.groupBy(\"job_title\").count().orderBy(F.desc(\"count\")).select(col(\"job_title\").alias(\"Job Title\"),col(\"count\").alias(\"Count\")).show(10)\n"
   ]
  },
  {
   "cell_type": "code",
   "execution_count": null,
   "id": "374bfa4f",
   "metadata": {},
   "outputs": [],
   "source": [
    "#"
   ]
  }
 ],
 "metadata": {
  "kernelspec": {
   "display_name": "Python 3 (ipykernel)",
   "language": "python",
   "name": "python3"
  },
  "language_info": {
   "codemirror_mode": {
    "name": "ipython",
    "version": 3
   },
   "file_extension": ".py",
   "mimetype": "text/x-python",
   "name": "python",
   "nbconvert_exporter": "python",
   "pygments_lexer": "ipython3",
   "version": "3.9.7"
  }
 },
 "nbformat": 4,
 "nbformat_minor": 5
}
