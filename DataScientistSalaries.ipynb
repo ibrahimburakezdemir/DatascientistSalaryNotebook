{
 "cells": [
  {
   "cell_type": "code",
   "execution_count": 1,
   "id": "c01d5689",
   "metadata": {},
   "outputs": [],
   "source": [
    "import findspark\n",
    "findspark.init()"
   ]
  },
  {
   "cell_type": "code",
   "execution_count": 2,
   "id": "6a63136d",
   "metadata": {},
   "outputs": [],
   "source": [
    "from pyspark.sql import SparkSession\n",
    "from pyspark.conf import SparkConf\n",
    "from pyspark.sql.functions import *\n",
    "import pyspark.sql.functions as F\n",
    "from pyspark.sql.types import IntegerType"
   ]
  },
  {
   "cell_type": "code",
   "execution_count": 4,
   "id": "1197726a",
   "metadata": {},
   "outputs": [],
   "source": [
    "spark = SparkSession.builder \\\n",
    ".appName(\"datascientistsalaries_dataset\") \\\n",
    ".getOrCreate()"
   ]
  },
  {
   "cell_type": "code",
   "execution_count": 6,
   "id": "70d55588",
   "metadata": {},
   "outputs": [],
   "source": [
    "df = spark.read \\\n",
    ".option(\"header\",True) \\\n",
    ".option(\"inferSchema\",\"True\") \\\n",
    ".csv(\"/Users/burak/Desktop/Software Projects/Data Engineering/Data Scientist Salaries/ds_salaries.csv\")"
   ]
  },
  {
   "cell_type": "code",
   "execution_count": 7,
   "id": "24dcec5e",
   "metadata": {},
   "outputs": [
    {
     "name": "stdout",
     "output_type": "stream",
     "text": [
      "root\n",
      " |-- _c0: integer (nullable = true)\n",
      " |-- work_year: integer (nullable = true)\n",
      " |-- experience_level: string (nullable = true)\n",
      " |-- employment_type: string (nullable = true)\n",
      " |-- job_title: string (nullable = true)\n",
      " |-- salary: integer (nullable = true)\n",
      " |-- salary_currency: string (nullable = true)\n",
      " |-- salary_in_usd: integer (nullable = true)\n",
      " |-- employee_residence: string (nullable = true)\n",
      " |-- remote_ratio: integer (nullable = true)\n",
      " |-- company_location: string (nullable = true)\n",
      " |-- company_size: string (nullable = true)\n",
      "\n"
     ]
    }
   ],
   "source": [
    "df.printSchema()"
   ]
  },
  {
   "cell_type": "code",
   "execution_count": 8,
   "id": "bded3429",
   "metadata": {},
   "outputs": [
    {
     "name": "stdout",
     "output_type": "stream",
     "text": [
      "+---------+----------------+--------------------+-------------+----------------+------------+\n",
      "|work_year|experience_level|           job_title|salary_in_usd|company_location|company_size|\n",
      "+---------+----------------+--------------------+-------------+----------------+------------+\n",
      "|     2021|              EX|Principal Data En...|       600000|              US|           L|\n",
      "|     2021|              MI|Financial Data An...|       450000|              US|           L|\n",
      "|     2020|              MI|  Research Scientist|       450000|              US|           M|\n",
      "|     2021|              MI|Applied Machine L...|       423000|              US|           L|\n",
      "|     2021|              EX|Principal Data Sc...|       416000|              US|           S|\n",
      "|     2020|              SE|      Data Scientist|       412000|              US|           L|\n",
      "|     2022|              SE| Data Analytics Lead|       405000|              US|           L|\n",
      "|     2022|              SE|Applied Data Scie...|       380000|              US|           L|\n",
      "|     2020|              EX|Director of Data ...|       325000|              US|           L|\n",
      "|     2022|              EX|       Data Engineer|       324000|              US|           M|\n",
      "+---------+----------------+--------------------+-------------+----------------+------------+\n",
      "only showing top 10 rows\n",
      "\n"
     ]
    }
   ],
   "source": [
    "#Sort by salary_in_usd in descending order\n",
    "df.orderBy(F.desc(\"salary_in_usd\")).select(\"work_year\",\\\n",
    "\"experience_level\",\"job_title\",\"salary_in_usd\",\\\n",
    "\"company_location\",\"company_size\").show(10)"
   ]
  },
  {
   "cell_type": "code",
   "execution_count": 9,
   "id": "6b3ae0e0",
   "metadata": {},
   "outputs": [
    {
     "name": "stdout",
     "output_type": "stream",
     "text": [
      "+-------------------------+\n",
      "|count(DISTINCT job_title)|\n",
      "+-------------------------+\n",
      "|                       50|\n",
      "+-------------------------+\n",
      "\n"
     ]
    }
   ],
   "source": [
    "#count of job_titles\n",
    "df.select(F.countDistinct(\"job_title\")).alias(\"Count Of Job Titles\").show()"
   ]
  },
  {
   "cell_type": "code",
   "execution_count": 10,
   "id": "7263a987",
   "metadata": {},
   "outputs": [
    {
     "name": "stdout",
     "output_type": "stream",
     "text": [
      "+--------------------+-----+\n",
      "|           Job Title|Count|\n",
      "+--------------------+-----+\n",
      "|      Data Scientist|  143|\n",
      "|       Data Engineer|  132|\n",
      "|        Data Analyst|   97|\n",
      "|Machine Learning ...|   41|\n",
      "|  Research Scientist|   16|\n",
      "|Data Science Manager|   12|\n",
      "|      Data Architect|   11|\n",
      "|Machine Learning ...|    8|\n",
      "|   Big Data Engineer|    8|\n",
      "|Director of Data ...|    7|\n",
      "+--------------------+-----+\n",
      "only showing top 10 rows\n",
      "\n"
     ]
    }
   ],
   "source": [
    "#number of job titles with their types\n",
    "df.groupBy(\"job_title\").count().orderBy(F.desc(\"count\")).select(col(\"job_title\").alias(\"Job Title\"),col(\"count\").alias(\"Count\")).show(10)\n"
   ]
  },
  {
   "cell_type": "code",
   "execution_count": 11,
   "id": "0aea207f",
   "metadata": {},
   "outputs": [
    {
     "name": "stdout",
     "output_type": "stream",
     "text": [
      "+--------------------+--------------+\n",
      "|Job Title           |Long Job Title|\n",
      "+--------------------+--------------+\n",
      "|Staff Data Scientist|20            |\n",
      "+--------------------+--------------+\n",
      "\n"
     ]
    }
   ],
   "source": [
    "#longest job titles\n",
    "df.select(col(\"job_title\").alias(\"Job Title\"),length(\"job_title\").alias(\"Long Job Title\")).orderBy(F.desc(\"job_title\")).\\\n",
    "limit(1).show(truncate=False)"
   ]
  },
  {
   "cell_type": "code",
   "execution_count": 12,
   "id": "287e2fd9",
   "metadata": {},
   "outputs": [
    {
     "name": "stdout",
     "output_type": "stream",
     "text": [
      "+----------------+--------------------+------+------------+----------------+\n",
      "|experience_level|           job_title|salary|remote_ratio|company_location|\n",
      "+----------------+--------------------+------+------------+----------------+\n",
      "|              EN|         ML Engineer| 14000|         100|              DE|\n",
      "|              MI|      Data Scientist| 21600|         100|              DE|\n",
      "|              EN|       Data Engineer| 48000|         100|              DE|\n",
      "|              MI|Data Engineering ...| 51999|         100|              DE|\n",
      "|              EN|       Data Engineer| 52800|         100|              DE|\n",
      "|              EN|Data Science Cons...| 65000|         100|              DE|\n",
      "|              SE|Data Analytics En...| 67000|         100|              DE|\n",
      "|              MI|Machine Learning ...| 80000|         100|              DE|\n",
      "|              EN|Machine Learning ...| 85000|         100|              DE|\n",
      "|              SE|Principal Data Sc...|130000|         100|              DE|\n",
      "|              SE|Principal Data Sc...|147000|         100|              DE|\n",
      "|              SE|Principal Data Sc...|148000|         100|              DE|\n",
      "+----------------+--------------------+------+------------+----------------+\n",
      "\n"
     ]
    }
   ],
   "source": [
    "#100% number of remote workers in Germany and sort salary\n",
    "df.where((col(\"company_location\")==\"DE\")&(col(\"remote_ratio\")==100)).\\\n",
    "orderBy(\"salary\").select(\"experience_level\",\"job_title\",\"salary\",\"remote_ratio\",\"company_location\").\\\n",
    "show()"
   ]
  },
  {
   "cell_type": "code",
   "execution_count": 13,
   "id": "b0644c3b",
   "metadata": {},
   "outputs": [
    {
     "name": "stdout",
     "output_type": "stream",
     "text": [
      "+------------------+-----+\n",
      "|Employee Residence|Count|\n",
      "+------------------+-----+\n",
      "|                US|  332|\n",
      "|                GB|   44|\n",
      "|                IN|   30|\n",
      "|                CA|   29|\n",
      "|                DE|   25|\n",
      "|                FR|   18|\n",
      "|                ES|   15|\n",
      "|                GR|   13|\n",
      "|                JP|    7|\n",
      "|                PT|    6|\n",
      "|                PK|    6|\n",
      "|                BR|    6|\n",
      "|                NL|    5|\n",
      "|                PL|    4|\n",
      "|                IT|    4|\n",
      "|                RU|    4|\n",
      "|                TR|    3|\n",
      "|                AT|    3|\n",
      "|                VN|    3|\n",
      "|                AU|    3|\n",
      "|                AE|    3|\n",
      "|                SG|    2|\n",
      "|                HU|    2|\n",
      "|                RO|    2|\n",
      "|                NG|    2|\n",
      "|                MX|    2|\n",
      "|                SI|    2|\n",
      "|                BE|    2|\n",
      "|                DK|    2|\n",
      "|                DZ|    1|\n",
      "|                EE|    1|\n",
      "|                UA|    1|\n",
      "|                CN|    1|\n",
      "|                HN|    1|\n",
      "|                BG|    1|\n",
      "|                PR|    1|\n",
      "|                IQ|    1|\n",
      "|                CZ|    1|\n",
      "|                MD|    1|\n",
      "|                MY|    1|\n",
      "|                NZ|    1|\n",
      "|                BO|    1|\n",
      "|                LU|    1|\n",
      "|                HR|    1|\n",
      "|                HK|    1|\n",
      "|                CL|    1|\n",
      "|                IR|    1|\n",
      "|                CH|    1|\n",
      "|                TN|    1|\n",
      "|                KE|    1|\n",
      "|                CO|    1|\n",
      "|                JE|    1|\n",
      "|                MT|    1|\n",
      "|                RS|    1|\n",
      "|                PH|    1|\n",
      "|                IE|    1|\n",
      "|                AR|    1|\n",
      "+------------------+-----+\n",
      "\n"
     ]
    }
   ],
   "source": [
    "#how many times which employee_residence is mentioned in the document and sort\n",
    "df.groupBy(\"employee_residence\").count().orderBy(F.desc(\"count\")).select(col(\"employee_residence\").alias(\"Employee Residence\"),col(\"count\").alias(\"Count\")).show(100)"
   ]
  },
  {
   "cell_type": "code",
   "execution_count": 14,
   "id": "69358da2",
   "metadata": {},
   "outputs": [
    {
     "name": "stdout",
     "output_type": "stream",
     "text": [
      "+---------+----------------+--------------+-------------+------------+------------------+----------------+\n",
      "|work_year|experience_level|     job_title|salary_in_usd|remote_ratio|employee_residence|company_location|\n",
      "+---------+----------------+--------------+-------------+------------+------------------+----------------+\n",
      "|     2021|              MI| Data Engineer|        12103|           0|                TR|              TR|\n",
      "|     2021|              MI| Data Engineer|        28016|         100|                TR|              TR|\n",
      "|     2021|              SE|Data Scientist|        20171|          50|                TR|              TR|\n",
      "+---------+----------------+--------------+-------------+------------+------------------+----------------+\n",
      "\n"
     ]
    }
   ],
   "source": [
    "#where employee_residence=\"TR\"\n",
    "df.where(col(\"employee_residence\")==\"TR\").select(\"work_year\",\"experience_level\",\"job_title\",\"salary_in_usd\",\"remote_ratio\",\"employee_residence\",\"company_location\").show()"
   ]
  },
  {
   "cell_type": "code",
   "execution_count": 15,
   "id": "99ae81a8",
   "metadata": {},
   "outputs": [
    {
     "name": "stdout",
     "output_type": "stream",
     "text": [
      "+---------+-----------------+\n",
      "|work_year|    TRY/USD Ratio|\n",
      "+---------+-----------------+\n",
      "|     2021| 8.92340741964802|\n",
      "|     2021|8.923472301541976|\n",
      "|     2021|8.923702344950671|\n",
      "+---------+-----------------+\n",
      "\n"
     ]
    }
   ],
   "source": [
    "#Find TRY/USD Ratio\n",
    "df.withColumn(\"TRY/USD Ratio\",col(\"salary\")/col(\"salary_in_usd\")).where(col(\"employee_residence\")==\"TR\").select(\"work_year\",\"TRY/USD Ratio\").show()\n"
   ]
  },
  {
   "cell_type": "code",
   "execution_count": 16,
   "id": "267460f0",
   "metadata": {},
   "outputs": [
    {
     "name": "stdout",
     "output_type": "stream",
     "text": [
      "+---------------+-----+\n",
      "|Salary Currency|Count|\n",
      "+---------------+-----+\n",
      "|            USD|  398|\n",
      "|            EUR|   95|\n",
      "|            GBP|   44|\n",
      "|            INR|   27|\n",
      "|            CAD|   18|\n",
      "|            TRY|    3|\n",
      "|            JPY|    3|\n",
      "|            PLN|    3|\n",
      "|            CNY|    2|\n",
      "|            DKK|    2|\n",
      "|            BRL|    2|\n",
      "|            AUD|    2|\n",
      "|            MXN|    2|\n",
      "|            HUF|    2|\n",
      "|            SGD|    2|\n",
      "|            CHF|    1|\n",
      "|            CLP|    1|\n",
      "+---------------+-----+\n",
      "\n"
     ]
    }
   ],
   "source": [
    "#how many times which currency is mentioned in the document and sort\n",
    "df.groupBy(\"salary_currency\").count().orderBy(F.desc(\"count\")).select(col(\"salary_currency\").alias(\"Salary Currency\"),col(\"count\").alias(\"Count\")).show()"
   ]
  },
  {
   "cell_type": "code",
   "execution_count": 17,
   "id": "8c9a3217",
   "metadata": {},
   "outputs": [
    {
     "name": "stdout",
     "output_type": "stream",
     "text": [
      "+---------+---------------+------------------+\n",
      "|work_year|salary_currency|All Currency Ratio|\n",
      "+---------+---------------+------------------+\n",
      "|     2022|            AUD|1.3840434658278524|\n",
      "|     2022|            AUD|1.3840351544929241|\n",
      "|     2022|            CAD|1.2691804901575052|\n",
      "|     2022|            CAD|1.2691708253164042|\n",
      "|     2022|            CAD| 1.269180853500267|\n",
      "|     2022|            CAD|1.2691787003610109|\n",
      "|     2022|            CAD|  1.26918195454021|\n",
      "|     2022|            CAD|1.2691804901575052|\n",
      "|     2022|            CAD|1.2691751207831656|\n",
      "|     2022|            CHF| 0.939957170647181|\n",
      "|     2022|            CNY| 6.445375443119562|\n",
      "|     2022|            EUR|0.9097939316744758|\n",
      "|     2022|            EUR|0.9097939316744758|\n",
      "|     2022|            EUR|0.9098077273002972|\n",
      "|     2022|            EUR|0.9098022089997635|\n",
      "|     2022|            EUR|0.9097998440343125|\n",
      "|     2022|            EUR|0.9098077273002972|\n",
      "|     2022|            EUR|0.9098022089997635|\n",
      "|     2022|            EUR|0.9097939316744758|\n",
      "|     2022|            EUR|0.9097939316744758|\n",
      "+---------+---------------+------------------+\n",
      "only showing top 20 rows\n",
      "\n"
     ]
    }
   ],
   "source": [
    "#Find All Currency Ratio and sort according to salary_currency for 2022\n",
    "df.withColumn(\"All Currency Ratio\",col(\"salary\")/col(\"salary_in_usd\")).orderBy(\"salary_currency\").where(col(\"work_year\")==2022).select(\"work_year\",\"salary_currency\",\"All Currency Ratio\").show()\n"
   ]
  },
  {
   "cell_type": "code",
   "execution_count": null,
   "id": "2efa2445",
   "metadata": {},
   "outputs": [],
   "source": []
  }
 ],
 "metadata": {
  "kernelspec": {
   "display_name": "Python 3 (ipykernel)",
   "language": "python",
   "name": "python3"
  },
  "language_info": {
   "codemirror_mode": {
    "name": "ipython",
    "version": 3
   },
   "file_extension": ".py",
   "mimetype": "text/x-python",
   "name": "python",
   "nbconvert_exporter": "python",
   "pygments_lexer": "ipython3",
   "version": "3.9.7"
  }
 },
 "nbformat": 4,
 "nbformat_minor": 5
}
